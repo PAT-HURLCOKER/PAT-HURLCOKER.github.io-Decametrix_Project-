{
 "cells": [
  {
   "cell_type": "code",
   "execution_count": null,
   "metadata": {},
   "outputs": [],
   "source": [
    "import tweepy\n",
    "import pandas as pd\n",
    "import matplotlib.pyplot as plt\n",
    "\n",
    "#LDP Data Analysis \n",
    "\n",
    "df = pd.read_csv(\"LDP EOP DATA.csv\")\n",
    "\n",
    "import numpy as np\n",
    "\n",
    "# Import and Initialize Sentiment Analyzer\n",
    "from vaderSentiment.vaderSentiment import SentimentIntensityAnalyzer\n",
    "analyzer = SentimentIntensityAnalyzer()\n",
    "\n",
    "from config import consumer_key, consumer_secret, access_token, access_token_secret\n",
    "\n",
    "# Setup Tweepy API Authentication\n",
    "auth = tweepy.OAuthHandler(consumer_key, consumer_secret)\n",
    "auth.set_access_token(access_token, access_token_secret)\n",
    "api = tweepy.API(auth, parser=tweepy.parsers.JSONParser())\n",
    "\n",
    "import spacy\n",
    "from spacy import displacy\n",
    "# Load the spaCy model\n",
    "nlp = spacy.load('en_core_web_sm') #sm does not use vectors\n",
    "                                   #but md does use vectors"
   ]
  },
  {
   "cell_type": "code",
   "execution_count": null,
   "metadata": {},
   "outputs": [],
   "source": []
  },
  {
   "cell_type": "code",
   "execution_count": null,
   "metadata": {},
   "outputs": [],
   "source": []
  },
  {
   "cell_type": "code",
   "execution_count": null,
   "metadata": {},
   "outputs": [],
   "source": [
    "column_name = [\"Q9_1\",\"Q9_2\",\"Q11_2\",\"Q11_3\",\"Q11_4\",\"Q12_2\",\"Q12_3\",\"Q12_4\",\"Q13_2\",\"Q13_3\",\"Q13_4\",\"Q14_2\",\"Q14_3\",\"Q14_4\",\"Q24_2\",\"Q24_3\",\"Q24_4\",\"Q15\",\"Q16\"]\n",
    "\n",
    "faculty_df = df[column_name] #separate faculty data\n",
    "\n",
    "over_sat = df[\"Q2_1\"] #isolate overall satisfaction column \n",
    "\n",
    "#very great extent 5\n",
    "len(over_sat)\n",
    "num = 0\n",
    "for dummy in over_sat:\n",
    "    if over_sat[num] == \"Very great extent 5\":\n",
    "        over_sat[num] = 5\n",
    "    if over_sat[num] == 'Some\\nextent\\n\\n3\\n':\n",
    "        over_sat[num] = 3\n",
    "    if over_sat[num] == \"Great\\nextent\\n4\\n\":\n",
    "        over_sat[num] = 4\n",
    "    if over_sat[num] == \"Not at all 1\":\n",
    "        over_sat[num] = 1\n",
    "    if over_sat[num] == \"Little\\nextent\\n2\\n\":\n",
    "        over_sat[num] = 2\n",
    "    num += 1"
   ]
  },
  {
   "cell_type": "code",
   "execution_count": null,
   "metadata": {},
   "outputs": [],
   "source": [
    "faculty_df[\"Q9_1\"].value_counts()"
   ]
  },
  {
   "cell_type": "code",
   "execution_count": null,
   "metadata": {},
   "outputs": [],
   "source": [
    "#\"Very great extent\\n5\"\n",
    "#\"Great\\nextent \\n4\"\n",
    "#\"Some\\nextent\\n3\"\n",
    "#\"Little\\nextent\\n2\"\n",
    "#\"Not at all\\n1\"\n",
    "col_9 = faculty_df[\"Q9_1\"]\n",
    "#num = 0\n",
    "#for dummy in col_9:\n",
    "#    if col_9[num] == 'Very great extent\\n5':\n",
    "#        col_9[num] = 5\n",
    "#    if col_9[num] == 'Some\\nextent\\n3':\n",
    "#        col_9[num] = 3\n",
    "#    if col_9[num] == 'Great\\nextent \\n4':\n",
    "#        col_9[num] = 4\n",
    "#    if col_9[num] == 'Not at all\\n1':\n",
    "#        col_9[num] = 1\n",
    "#    if col_9[num] == 'Little\\nextent\\n2':\n",
    "#        col_9[num] = 2\n",
    "#    num += 1"
   ]
  },
  {
   "cell_type": "code",
   "execution_count": null,
   "metadata": {},
   "outputs": [],
   "source": [
    "num = 0\n",
    "#np.arange(0,len(col_9))\n",
    "col_9 = pd.DataFrame(col_9)\n",
    "vec_dummy = np.arange(0,len(col_9))\n",
    "for dummy in vec_dummy:\n",
    "    if col_9.loc[num,\"Q9_1\"] == 'Very great extent\\n5':\n",
    "        col_9.loc[num,\"Q9_1\"] = 5\n",
    "    if col_9.loc[num,\"Q9_1\"] == 'Some\\nextent\\n3':\n",
    "        col_9.loc[num,\"Q9_1\"] = 3\n",
    "    if col_9.loc[num,\"Q9_1\"] == 'Great\\nextent \\n4':\n",
    "        col_9.loc[num,\"Q9_1\"] = 4\n",
    "    if col_9.loc[num,\"Q9_1\"] == 'Not at all\\n1 ':\n",
    "        col_9.loc[num,\"Q9_1\"] = 1\n",
    "    if col_9.loc[num,\"Q9_1\"] == 'Little\\nextent\\n2':\n",
    "        col_9.loc[num,\"Q9_1\"] = 2\n",
    "    num += 1"
   ]
  },
  {
   "cell_type": "code",
   "execution_count": null,
   "metadata": {
    "scrolled": true
   },
   "outputs": [],
   "source": [
    "#col_9.loc[5,\"Q9_1\"]\n",
    "#len(vec_dummy)\n",
    "\n",
    "col_9=col_9.drop([0,1])\n",
    "test = col_9\n",
    "col_9bar = col_9[\"Q9_1\"].value_counts()\n"
   ]
  },
  {
   "cell_type": "code",
   "execution_count": null,
   "metadata": {},
   "outputs": [],
   "source": []
  },
  {
   "cell_type": "code",
   "execution_count": null,
   "metadata": {},
   "outputs": [],
   "source": []
  },
  {
   "cell_type": "code",
   "execution_count": null,
   "metadata": {},
   "outputs": [],
   "source": [
    "mean_Q9 = test[\"Q9_1\"].mean()\n",
    "mean_Q9"
   ]
  },
  {
   "cell_type": "code",
   "execution_count": null,
   "metadata": {},
   "outputs": [],
   "source": [
    "col_9.index.name = \"Nums\"\n",
    "#ax = col_9[\"Q9_1\"].plot(kind=\"bar\")\n",
    "#plt.show()\n",
    "col_9bar = pd.DataFrame(col_9bar)"
   ]
  },
  {
   "cell_type": "code",
   "execution_count": null,
   "metadata": {},
   "outputs": [],
   "source": [
    "counts_9 = col_9[\"Q9_1\"].value_counts()\n",
    "counts_9=pd.DataFrame(counts_9)\n",
    "#counts_9.rename(index)\n",
    "#counts_9 = counts_9.rename(index={\"Not at all\\n1\": '1'})\n",
    "counts_9.index"
   ]
  },
  {
   "cell_type": "code",
   "execution_count": null,
   "metadata": {},
   "outputs": [],
   "source": [
    "col_9bar\n",
    "ax = col_9bar[\"Q9_1\"].plot(kind=\"bar\") #bar graph of responses to Question: To what extent did your FACULTY TEAM achieve the following: - Brought different perspectives in a complementary fashion that enhanced my learning experience.\n",
    "plt.title(\"Faculty questions | To what extent did your FACULTY TEAM achieve the following: - Brought different perspectives in a complementary fashion that enhanced my learning experience\")\n",
    "plt.ylabel(\"Amount of Responses\")\n",
    "plt.xlabel(\"Rating\")\n",
    "plt.savefig(\"Faculty_Rating_Bar_Plots/Faculty_Question_different_perspectives.png\")\n"
   ]
  },
  {
   "cell_type": "code",
   "execution_count": null,
   "metadata": {},
   "outputs": [],
   "source": [
    "#Working on end of faculty"
   ]
  },
  {
   "cell_type": "code",
   "execution_count": null,
   "metadata": {},
   "outputs": [],
   "source": [
    "#Field trainer 3"
   ]
  },
  {
   "cell_type": "code",
   "execution_count": null,
   "metadata": {},
   "outputs": [],
   "source": [
    "col_13 = faculty_df[\"Q13_2\"]\n",
    "col_13 = col_13.value_counts() #14_2 to 24_4 ignore\n",
    "#col_13 = pd.DataFrame(col_13)\n"
   ]
  },
  {
   "cell_type": "code",
   "execution_count": null,
   "metadata": {
    "scrolled": true
   },
   "outputs": [],
   "source": [
    "col_13=col_13.drop(\"[Field-Trainer03] - Made training content relevant\")\n",
    "string='{\"ImportId\":\"QID111_2\"}'\n",
    "col_13=col_13.drop(string)"
   ]
  },
  {
   "cell_type": "code",
   "execution_count": null,
   "metadata": {},
   "outputs": [],
   "source": [
    "col_13 = col_13.rename(index={\"Very great extent\\n5\\n\": '5',\"Great\\nextent\\n4\\n\":\"4\",\"Some\\nextent\\n3\\n\":\"3\",\"Little\\nextent\\n2\\n\":\"2\"})\n",
    "col_13.index\n",
    "#string='{\"ImportId\":\"QID111_2\"}'\n",
    "#col_13=col_13.drop(string)"
   ]
  },
  {
   "cell_type": "code",
   "execution_count": null,
   "metadata": {},
   "outputs": [],
   "source": [
    "col_13bar=pd.DataFrame(col_13)\n",
    "ax = col_13bar[\"Q13_2\"].plot(kind=\"bar\") #responses for Filed Trainer 3 - made training content relevant\n",
    "plt.title(\"Field Trainer 3 | Responses to: Made training content relevant?\")\n",
    "plt.ylabel(\"Amount of Responses\")\n",
    "plt.xlabel(\"Rating\")\n",
    "plt.savefig(\"Faculty_Rating_Bar_Plots/FieldTrainer_3_ResponsestoMadetrainingcontentrelevant.png\")\n",
    "plt.show()\n"
   ]
  },
  {
   "cell_type": "code",
   "execution_count": null,
   "metadata": {},
   "outputs": [],
   "source": [
    "col_13\n",
    "mean_col_13 = ((5*802)+(4*210)+(3*14)+(2*2))/(802+210+14+2)\n",
    "mean_col_13"
   ]
  },
  {
   "cell_type": "code",
   "execution_count": null,
   "metadata": {},
   "outputs": [],
   "source": [
    "col_13_3 = faculty_df[\"Q13_3\"]\n",
    "col_13_3 = col_13_3.value_counts() #14_2 to 24_4 ignore\n",
    "col_13_3.index\n",
    "string1 = '{\"ImportId\":\"QID111_3\"}'\n",
    "string2 = '[Field-Trainer03] - Was an effective facilitator of learning'\n",
    "col_13_3 = col_13_3.drop([string1,string2])\n",
    "col_13_3 = col_13_3.rename(index={\"Very great extent\\n5\\n\":5,\"Great\\nextent\\n4\\n\":4,\"Some\\nextent\\n3\\n\":3,\"Little\\nextent\\n2\\n\":2})"
   ]
  },
  {
   "cell_type": "code",
   "execution_count": null,
   "metadata": {},
   "outputs": [],
   "source": [
    "col_13_3 = pd.DataFrame(col_13_3)\n",
    "col_13_3=pd.DataFrame(col_13_3)\n",
    "ax = col_13_3[\"Q13_3\"].plot(kind=\"bar\") #responses for Field Trainer 3 - Was an effective facilitator of learning?\n",
    "plt.title(\"Field Trainer 3 |  Was an effective facilitator of learning?\")\n",
    "plt.ylabel(\"Amount of Responses\")\n",
    "plt.xlabel(\"Rating\")\n",
    "plt.savefig(\"Faculty_Rating_Bar_Plots/FieldTrainer3Was_an_effectivefacilitatoroflearning.png\")\n",
    "plt.show()"
   ]
  },
  {
   "cell_type": "code",
   "execution_count": null,
   "metadata": {},
   "outputs": [],
   "source": [
    "col_13_3\n",
    "mean_13_3 = ((5*815)+(4*191)+(3*18)+(2*4))/(815+191+18+4)\n",
    "mean_13_3"
   ]
  },
  {
   "cell_type": "code",
   "execution_count": null,
   "metadata": {},
   "outputs": [],
   "source": [
    "col_13_4 = faculty_df[\"Q13_4\"]\n",
    "col_13_4 = col_13_4.value_counts() #14_2 to 24_4 ignore\n",
    "col_13_4.index\n",
    "string3 = '[Field-Trainer03] - Demonstrated business knowledge'\n",
    "string4 = '{\"ImportId\":\"QID111_4\"}'\n",
    "col_13_4 = col_13_4.drop([string3,string4])\n",
    "col_13_4 = col_13_4.rename(index={\"Very great extent\\n5\\n\":5,\"Great\\nextent\\n4\\n\":4,\"Some\\nextent\\n3\\n\":3,\"Little\\nextent\\n2\\n\":2,\"Not at\\nall\\n1\\n\":1})"
   ]
  },
  {
   "cell_type": "code",
   "execution_count": null,
   "metadata": {},
   "outputs": [],
   "source": [
    "col_13_4=pd.DataFrame(col_13_4)\n",
    "ax = col_13_4[\"Q13_4\"].plot(kind=\"bar\") #Demonstrated business knowledge?\n",
    "plt.title(\"Field Trainer 3 | Demonstrated business knowledge?\")\n",
    "plt.ylabel(\"Amount of Responses\")\n",
    "plt.xlabel(\"Rating\")\n",
    "plt.savefig(\"Faculty_Rating_Bar_Plots/FieldTrainer3Demonstrated_business_knowledge.png\")"
   ]
  },
  {
   "cell_type": "code",
   "execution_count": null,
   "metadata": {},
   "outputs": [],
   "source": [
    "col_13_4\n",
    "mean_13_4 = ((724*5)+(244*4)+(56*3)+(4*2)+(1*1))/(724+244+56+4+1)\n",
    "mean_13_4"
   ]
  },
  {
   "cell_type": "code",
   "execution_count": null,
   "metadata": {},
   "outputs": [],
   "source": [
    "#Work on Field Trainer 2"
   ]
  },
  {
   "cell_type": "code",
   "execution_count": null,
   "metadata": {},
   "outputs": [],
   "source": [
    "col_124 = faculty_df[\"Q12_4\"]\n",
    "col_124 = col_124.value_counts()\n",
    "col_124.index\n",
    "string6='[Field-Trainer02] - Demonstrated business knowledge'\n",
    "string7='{\"ImportId\":\"QID101_4\"}'\n",
    "col_124 = col_124.drop([string6,string7])\n",
    "col_124 = col_124.rename(index={\"Very great extent\\n5\\n\":5,\"Great\\nextent\\n4\\n\":4,\"Some\\nextent\\n3\\n\":3,\"Little\\nextent\\n2\\n\":2,\"Not at\\nall\\n1\\n\":1})"
   ]
  },
  {
   "cell_type": "code",
   "execution_count": null,
   "metadata": {},
   "outputs": [],
   "source": [
    "col_124=pd.DataFrame(col_124)\n",
    "ax = col_124[\"Q12_4\"].plot(kind=\"bar\") # Demonstrated business knowledge\n",
    "plt.title(\"Field Trainer 2 | Demonstrated Business Knowledge\")\n",
    "plt.xlabel(\"Rating\")\n",
    "plt.ylabel(\"Amount of Responses\")\n",
    "plt.savefig(\"Faculty_Rating_Bar_Plots/Field_Trainer_2_DemonstratedBusinessKnowledge.png\")"
   ]
  },
  {
   "cell_type": "code",
   "execution_count": null,
   "metadata": {},
   "outputs": [],
   "source": [
    "col_124\n",
    "mean_124 = ((4185*5)+(1242*4)+(251*3)+(29*2)+(2*1))/(4185+1242+251+29+2)\n",
    "mean_124"
   ]
  },
  {
   "cell_type": "code",
   "execution_count": null,
   "metadata": {},
   "outputs": [],
   "source": [
    "#go through columns Q11_2,Q11_3,Q11_4,Q12_2\n",
    "#1 1 1 2 2"
   ]
  },
  {
   "cell_type": "code",
   "execution_count": null,
   "metadata": {},
   "outputs": [],
   "source": [
    "#Q12_3\n",
    "#[Field-Trainer02] - Was an effective facilitator of learning\n",
    "col_123 = faculty_df[\"Q12_3\"]\n",
    "col_123 = col_123.value_counts()\n",
    "col_123.index"
   ]
  },
  {
   "cell_type": "code",
   "execution_count": null,
   "metadata": {},
   "outputs": [],
   "source": [
    "string8 = '[Field-Trainer02] - Was an effective facilitator of learning'\n",
    "string9 = '{\"ImportId\":\"QID101_3\"}'\n",
    "col_123 = col_123.drop([string8,string9])\n",
    "col_123 = col_123.rename(index={\"Very great extent\\n5\\n\":5,\"Great\\nextent\\n4\\n\":4,\"Some\\nextent\\n3\\n\":3,\"Little\\nextent\\n2\\n\":2,\"Not at\\nall\\n1\\n\":1})"
   ]
  },
  {
   "cell_type": "code",
   "execution_count": null,
   "metadata": {},
   "outputs": [],
   "source": [
    "#col_123.rename(index={\"Very great extent\\n5\\n\":5,\"Great\\nextent\\n4\\n\":4,\"Some\\nextent\\n3\\n\":3,\"Little\\nextent\\n2\\n\":2,\"Not at\\nall\\n1\\n\":1})"
   ]
  },
  {
   "cell_type": "code",
   "execution_count": null,
   "metadata": {},
   "outputs": [],
   "source": [
    "col_123=pd.DataFrame(col_123)"
   ]
  },
  {
   "cell_type": "code",
   "execution_count": null,
   "metadata": {},
   "outputs": [],
   "source": [
    "col_123[\"Q12_3\"].plot(kind=\"bar\")\n",
    "plt.title(\"Field Trainer 2 | Was an effective facilitator of learning\")\n",
    "plt.xlabel(\"Rating\")\n",
    "plt.ylabel(\"Amount of Responses\")\n",
    "plt.savefig(\"Faculty_Rating_Bar_Plots/Field_Trainer_2_facilitator_learning.png\")"
   ]
  },
  {
   "cell_type": "markdown",
   "metadata": {},
   "source": []
  },
  {
   "cell_type": "code",
   "execution_count": null,
   "metadata": {},
   "outputs": [],
   "source": [
    "col_123\n",
    "mean_123 = ((5*4676)+(4*911)+(3*112)+(2*17)+(2*1))/(4676+911+112+17+2)\n",
    "mean_123"
   ]
  },
  {
   "cell_type": "code",
   "execution_count": null,
   "metadata": {},
   "outputs": [],
   "source": [
    "#Q12_2\n",
    "col_122 = faculty_df[\"Q12_2\"]\n",
    "col_122 = col_122.value_counts()\n",
    "col_122.index"
   ]
  },
  {
   "cell_type": "code",
   "execution_count": null,
   "metadata": {},
   "outputs": [],
   "source": [
    "string10 = '[Field-Trainer02] - Made training content relevant'\n",
    "string11 = '{\"ImportId\":\"QID101_2\"}'\n"
   ]
  },
  {
   "cell_type": "code",
   "execution_count": null,
   "metadata": {},
   "outputs": [],
   "source": [
    "col_122 = col_122.drop([string10,string11])\n",
    "col_122 = col_122.rename(index={\"Very great extent\\n5\\n\":5,\"Great\\nextent\\n4\\n\":4,\"Some\\nextent\\n3\\n\":3,\"Little\\nextent\\n2\\n\":2,\"Not at\\nall\\n1\\n\":1})\n"
   ]
  },
  {
   "cell_type": "code",
   "execution_count": null,
   "metadata": {},
   "outputs": [],
   "source": [
    "#Focus in Trainer 1 - Q11_2,Q11_3,Q11_4\n",
    "col_122=pd.DataFrame(col_122)\n",
    "col_122[\"Q12_2\"].plot(kind=\"bar\")\n",
    "plt.title(\"Field Trainer 2 | Made training content relevant\")\n",
    "plt.xlabel(\"Rating\")\n",
    "plt.ylabel(\"Amount of Responses\")\n",
    "plt.savefig(\"Faculty_Rating_Bar_Plots/FieldTrainer2Made_training_content_relevant.png\")"
   ]
  },
  {
   "cell_type": "code",
   "execution_count": null,
   "metadata": {},
   "outputs": [],
   "source": [
    "col_122\n",
    "mean_122 = ((4598*5)+(1034*4)+(84*3)+(3*2))/(4598+1034+84+3)\n",
    "mean_122"
   ]
  },
  {
   "cell_type": "code",
   "execution_count": null,
   "metadata": {},
   "outputs": [],
   "source": [
    "#Work on Field Trainer 1 information\n",
    "#Q11_2,Q11_3,Q11_4\n",
    "col_112 = faculty_df[\"Q11_2\"]\n",
    "col_112 = col_112.value_counts()\n",
    "col_112.index"
   ]
  },
  {
   "cell_type": "code",
   "execution_count": null,
   "metadata": {},
   "outputs": [],
   "source": [
    "string12 = '{\"ImportId\":\"QID11_2\"}'\n",
    "string13 = '[Field-Trainer01] - Made training content relevant'\n",
    "col_112 = col_112.drop([string12,string13])"
   ]
  },
  {
   "cell_type": "code",
   "execution_count": null,
   "metadata": {},
   "outputs": [],
   "source": [
    "col_112 = col_112.rename(index={\"Very great extent\\n5\\n\":5,\"Great\\nextent\\n4\\n\":4,\"Some\\nextent\\n3\\n\":3,\"Little\\nextent\\n2\\n\":2,\"Not at\\nall\\n1\\n\":1})"
   ]
  },
  {
   "cell_type": "code",
   "execution_count": null,
   "metadata": {},
   "outputs": [],
   "source": [
    "col_112 = pd.DataFrame(col_112)\n",
    "col_112[\"Q11_2\"].plot(kind=\"bar\")\n",
    "plt.title(\"Field Trainer 1 | Made training content relevant\")\n",
    "plt.xlabel(\"Rating\")\n",
    "plt.ylabel(\"Faculty_Rating_Bar_Plots/FT1_content_relevance.png\")"
   ]
  },
  {
   "cell_type": "code",
   "execution_count": null,
   "metadata": {},
   "outputs": [],
   "source": [
    "col_122\n",
    "mean_122 = ((4598*5)+(1034*4)+(84*3)+(3*2))/(4598+1034+84+3)\n",
    "mean_122"
   ]
  },
  {
   "cell_type": "code",
   "execution_count": null,
   "metadata": {},
   "outputs": [],
   "source": []
  },
  {
   "cell_type": "code",
   "execution_count": null,
   "metadata": {},
   "outputs": [],
   "source": [
    "col_113 = faculty_df[\"Q11_3\"]\n",
    "col_113 = col_113.value_counts()\n",
    "col_113.index"
   ]
  },
  {
   "cell_type": "code",
   "execution_count": null,
   "metadata": {},
   "outputs": [],
   "source": [
    "string14 = '[Field-Trainer01] - Was an effective facilitator of learning'\n",
    "string15 = '{\"ImportId\":\"QID11_3\"}'\n",
    "\n",
    "col_113 = col_113.drop([string14,string15])"
   ]
  },
  {
   "cell_type": "code",
   "execution_count": null,
   "metadata": {},
   "outputs": [],
   "source": [
    "col_113 = col_113.rename(index={\"Very great extent\\n5\\n\":5,\"Great\\nextent\\n4\\n\":4,\"Some\\nextent\\n3\\n\":3,\"Little\\nextent\\n2\\n\":2,\"Not at\\nall\\n1\\n\":1})"
   ]
  },
  {
   "cell_type": "code",
   "execution_count": null,
   "metadata": {},
   "outputs": [],
   "source": [
    "col_113 = pd.DataFrame(col_113)\n",
    "col_113[\"Q11_3\"].plot(kind=\"bar\")\n",
    "plt.title(\"Field Trainer 1 | Was an effective facilitator of learning\")\n",
    "plt.xlabel(\"Rating\")\n",
    "plt.ylabel(\"Faculty_Rating_Bar_Plots/FT1effective_facilitator.png\")"
   ]
  },
  {
   "cell_type": "code",
   "execution_count": null,
   "metadata": {},
   "outputs": [],
   "source": [
    "col_113\n",
    "mean_113 = ((4612*5)+(992*4)+(121*3)+(17*2)+(3*1))/(4612+992+121+17+3)\n",
    "mean_113"
   ]
  },
  {
   "cell_type": "code",
   "execution_count": null,
   "metadata": {},
   "outputs": [],
   "source": []
  },
  {
   "cell_type": "code",
   "execution_count": null,
   "metadata": {},
   "outputs": [],
   "source": [
    "col_114 = faculty_df[\"Q11_4\"]\n",
    "col_114 = col_114.value_counts()\n",
    "col_114.index"
   ]
  },
  {
   "cell_type": "code",
   "execution_count": null,
   "metadata": {},
   "outputs": [],
   "source": [
    "string16= '{\"ImportId\":\"QID11_4\"}'\n",
    "string17= '[Field-Trainer01] - Demonstrated business knowledge'\n",
    "col_114 = col_114.drop([string16,string17])"
   ]
  },
  {
   "cell_type": "code",
   "execution_count": null,
   "metadata": {},
   "outputs": [],
   "source": [
    "col_114 = col_114.rename(index={\"Very great extent\\n5\\n\":5,\"Great\\nextent\\n4\\n\":4,\"Some\\nextent\\n3\\n\":3,\"Little\\nextent\\n2\\n\":2,\"Not at\\nall\\n1\\n\":1})"
   ]
  },
  {
   "cell_type": "code",
   "execution_count": null,
   "metadata": {},
   "outputs": [],
   "source": [
    "col_114 = pd.DataFrame(col_114)\n",
    "col_114[\"Q11_4\"].plot(kind=\"bar\")\n",
    "plt.title(\"Field Trainer 1 | Demonstrated business knowledge\")\n",
    "plt.xlabel(\"Rating\")\n",
    "plt.ylabel(\"Faculty_Rating_Bar_Plots/FieldTrainer1_demo_business.png\")"
   ]
  },
  {
   "cell_type": "code",
   "execution_count": null,
   "metadata": {},
   "outputs": [],
   "source": [
    "col_114\n",
    "mean_114 = ((4018*5)+(1366*4)+(315*3)+(32*2)+(5*1))/(4018+1366+315+32+5)\n",
    "mean_114"
   ]
  },
  {
   "cell_type": "code",
   "execution_count": null,
   "metadata": {},
   "outputs": [],
   "source": [
    "#LOI Revised data"
   ]
  },
  {
   "cell_type": "code",
   "execution_count": null,
   "metadata": {},
   "outputs": [],
   "source": [
    "#Work until column Q18_4 (Field trainer 4 demonstrated business knowledge)\n",
    "#start at Q13_1\n",
    "df2 = pd.read_csv(\"LOI EOP REVISED DATA.csv\")"
   ]
  },
  {
   "cell_type": "code",
   "execution_count": null,
   "metadata": {},
   "outputs": [],
   "source": [
    "col_names = [\"Q13_1\",\"Q13_2\",\"Q15_2\",\"Q15_3\",\"Q15_4\",\"Q16_2\",\"Q16_3\",\"Q16_4\",\"Q17_2\",\"Q17_3\",\"Q17_4\",\"Q18_2\",\"Q18_3\",\"Q18_4\"]"
   ]
  },
  {
   "cell_type": "code",
   "execution_count": null,
   "metadata": {},
   "outputs": [],
   "source": [
    "trainer_df = df2[col_names]\n",
    "q13 = trainer_df[\"Q13_1\"].value_counts()\n",
    "q13.index\n",
    "string01 = '{\"ImportId\":\"QID92_1\"}'\n",
    "string02 = 'Program Faculty Ratings\\n\\n\\n\\nAll the Division facilitators (APD, CGD and IGD) are listed. Please rate only your Division facilitator.\\n\\n\\n\\n\\n\\nTo what extent did your FACULTY TEAM achieve the following: - Brought different perspectives in a complementary fashion that enhanced my learning experience.'\n",
    "q13 = q13.drop([string01,string02])"
   ]
  },
  {
   "cell_type": "code",
   "execution_count": null,
   "metadata": {},
   "outputs": [],
   "source": [
    "q13 = q13.rename(index = {\"Very great extent\\n5\":5,\"Great\\nextent \\n4\":4,\"Some\\nextent\\n3\":3,\"Little\\nextent\\n2\":2})"
   ]
  },
  {
   "cell_type": "code",
   "execution_count": null,
   "metadata": {},
   "outputs": [],
   "source": [
    "q13=pd.DataFrame(q13)\n",
    "q13[\"Q13_1\"].plot(kind=\"bar\")\n",
    "plt.title(\"Faculty | Brought different persepectives that enhanced learning\")\n",
    "plt.xlabel(\"Rating\")\n",
    "plt.ylabel(\"Amount of Responses\")\n",
    "plt.savefig(\"Faculty_Rating_Bar_Plots/LOI_data_Faculty_perspectives_enhanced_learning.png\")"
   ]
  },
  {
   "cell_type": "code",
   "execution_count": null,
   "metadata": {},
   "outputs": [],
   "source": [
    "q13 = (1205*5+528*4+54*3+7*2)/(1205+528+54+7)\n",
    "q13"
   ]
  },
  {
   "cell_type": "code",
   "execution_count": null,
   "metadata": {},
   "outputs": [],
   "source": []
  },
  {
   "cell_type": "code",
   "execution_count": null,
   "metadata": {},
   "outputs": [],
   "source": [
    "#\"Q13_2\"\n",
    "q132 = trainer_df[\"Q13_2\"].value_counts()\n",
    "q132.index\n",
    "string20 = '{\"ImportId\":\"QID92_2\"}'\n",
    "string21 = 'Program Faculty Ratings\\n\\n\\n\\nAll the Division facilitators (APD, CGD and IGD) are listed. Please rate only your Division facilitator.\\n\\n\\n\\n\\n\\nTo what extent did your FACULTY TEAM achieve the following: - Collaborated in their approach to provide a meaningful learning experience for me.'\n",
    "    "
   ]
  },
  {
   "cell_type": "code",
   "execution_count": null,
   "metadata": {},
   "outputs": [],
   "source": [
    "q132 = q132.drop([string20,string21])"
   ]
  },
  {
   "cell_type": "code",
   "execution_count": null,
   "metadata": {},
   "outputs": [],
   "source": [
    "q132 = q132.rename(index = {\"Very great extent\\n5\":5,\"Great\\nextent \\n4\":4,\"Some\\nextent\\n3\":3,\"Little\\nextent\\n2\":2,\"Not at all\\n1 \":1})"
   ]
  },
  {
   "cell_type": "code",
   "execution_count": null,
   "metadata": {},
   "outputs": [],
   "source": [
    "q132 = pd.DataFrame(q132)\n",
    "q132[\"Q13_2\"].plot(kind = \"bar\")\n",
    "plt.title(\"Program Faculty | Collaborated to create meaningful learning experience\")\n",
    "plt.xlabel(\"Rating\")\n",
    "plt.ylabel(\"Amount of Responses\")\n",
    "plt.savefig(\"LOI_data_Faculty_provide_meaningful_experience.png\")"
   ]
  },
  {
   "cell_type": "code",
   "execution_count": null,
   "metadata": {},
   "outputs": [],
   "source": [
    "q132\n",
    "q132_mean = (1275*5+447*4+59*3+6*2+2*1)/(1275+447+59+6+2)\n",
    "q132"
   ]
  },
  {
   "cell_type": "code",
   "execution_count": null,
   "metadata": {},
   "outputs": [],
   "source": [
    "#\"Q13_2\"\n",
    "q152 = trainer_df[\"Q15_2\"].value_counts()\n",
    "q152.index\n",
    "string001 = '{\"ImportId\":\"QID11_2\"}'\n",
    "string002= '[Field-Trainer01] - Made training content relevant'\n",
    "q152=q152.drop([string001,string002])"
   ]
  },
  {
   "cell_type": "code",
   "execution_count": null,
   "metadata": {},
   "outputs": [],
   "source": [
    "q152 = q152.rename(index= {\"Very great extent\\n5\\n\":5,\"Great\\nextent\\n4\\n\":4,\"Some\\nextent\\n3\\n\":3,\"Little\\nextent\\n2\\n\":2,\"Not at\\nall\\n1\\n\":1})"
   ]
  },
  {
   "cell_type": "code",
   "execution_count": null,
   "metadata": {},
   "outputs": [],
   "source": [
    "q152=pd.DataFrame(q152)\n",
    "q152[\"Q15_2\"].plot(kind=\"Bar\")\n",
    "plt.title(\"LOI Dataset | Did Field Trainer 1 make training content relevant?\")\n",
    "plt.xlabel(\"Rating\")\n",
    "plt.ylabel(\"Amount of Responses\")\n",
    "plt.savefig(\"LOI_FT1_training_content_relevance.png\")"
   ]
  },
  {
   "cell_type": "code",
   "execution_count": null,
   "metadata": {},
   "outputs": [],
   "source": [
    "#MDP\n",
    "q153 = trainer_df[\"Q15_3\"]\n",
    "q153 = q153.value_counts()\n",
    "q153.index\n",
    "stringA = '[Field-Trainer01] - Was an effective facilitator of learning'\n",
    "stringB = '{\"ImportId\":\"QID11_3\"}'\n",
    "q153 = q153.drop([stringA,stringB])\n",
    "q153 = q153.rename(index = {\"Very great extent\\n5\\n\":5,\"Great\\nextent\\n4\\n\":4,\"Some\\nextent\\n3\\n\":3,\"Little\\nextent\\n2\\n\":2})\n",
    "q153 = pd.DataFrame(q153)"
   ]
  },
  {
   "cell_type": "code",
   "execution_count": null,
   "metadata": {},
   "outputs": [],
   "source": [
    "q153[\"Q15_3\"].plot(kind=\"Bar\")\n",
    "plt.title(\"LOI Data Trainer 1 - was an effective facilitator of learning\")\n",
    "plt.xlabel(\"Rating\")\n",
    "plt.ylabel(\"Amount of Responses\")\n",
    "plt.savefig(\"LOI_FT1_effective_facilitator.png\")"
   ]
  },
  {
   "cell_type": "code",
   "execution_count": null,
   "metadata": {},
   "outputs": [],
   "source": [
    "q154 = trainer_df[\"Q15_4\"]\n",
    "q154 = q154.value_counts()\n",
    "q154.index\n",
    "stringC = '[Field-Trainer01] - Demonstrated business knowledge'\n",
    "stringD = '{\"ImportId\":\"QID11_4\"}'\n",
    "q154 = q154.drop([stringC,stringD])\n",
    "q154 = q154.rename(index = {\"Very great extent\\n5\\n\":5,\"Great\\nextent\\n4\\n\":4,\"Some\\nextent\\n3\\n\":3,\"Little\\nextent\\n2\\n\":2,\"Not at\\nall\\n1\\n\":1})\n",
    "q154 = pd.DataFrame(q154)"
   ]
  },
  {
   "cell_type": "code",
   "execution_count": null,
   "metadata": {},
   "outputs": [],
   "source": [
    "q154[\"Q15_4\"].plot(kind=\"Bar\")\n",
    "plt.title(\"LOI Data Trainer 1 - demonstrated business knowledge\")\n",
    "plt.xlabel(\"Rating\")\n",
    "plt.ylabel(\"Amount of Responses\")\n",
    "plt.savefig(\"LOI_FT1_business_knowledge.png\")"
   ]
  },
  {
   "cell_type": "code",
   "execution_count": null,
   "metadata": {},
   "outputs": [],
   "source": [
    "q162 = trainer_df[\"Q16_2\"]\n",
    "q162 = q162.value_counts()\n",
    "q162.index\n",
    "stringE = '[Field-Trainer02] - Made training content relevant'\n",
    "stringF =  '{\"ImportId\":\"QID123_2\"}'\n",
    "q162 = q162.drop([stringE,stringF])\n",
    "q162 = q162.rename(index = {\"Very great extent\\n5\\n\":5,\"Great\\nextent\\n4\\n\":4,\"Some\\nextent\\n3\\n\":3,\"Little\\nextent\\n2\\n\":2,\"Not at\\nall\\n1\\n\":1})"
   ]
  },
  {
   "cell_type": "code",
   "execution_count": null,
   "metadata": {},
   "outputs": [],
   "source": [
    "q162 = pd.DataFrame(q162)\n",
    "q162[\"Q16_2\"].plot(kind=\"Bar\")\n",
    "plt.title(\"LOI Data | Field Trainer 2 - made training content relevant\")\n",
    "plt.xlabel(\"Rating\")\n",
    "plt.ylabel(\"Amount of Responses\")\n",
    "plt.savefig(\"LOI_FT2_relevance_training_content.png\")"
   ]
  },
  {
   "cell_type": "code",
   "execution_count": null,
   "metadata": {},
   "outputs": [],
   "source": [
    "q163=trainer_df[\"Q16_3\"]\n",
    "q163 = q163.value_counts()\n",
    "q163.index\n",
    "stringF = '{\"ImportId\":\"QID123_3\"}'\n",
    "stringG = '[Field-Trainer02] - Was an effective facilitator of learning'\n",
    "q163 = q163.drop([stringF,stringG])\n",
    "q163 = q163.rename(index = {\"Very great extent\\n5\\n\":5,\"Great\\nextent\\n4\\n\":4,\"Some\\nextent\\n3\\n\":3,\"Little\\nextent\\n2\\n\":2,\"Not at\\nall\\n1\\n\":1})\n",
    "q163 = pd.DataFrame(q163)"
   ]
  },
  {
   "cell_type": "code",
   "execution_count": null,
   "metadata": {},
   "outputs": [],
   "source": [
    "q163[\"Q16_3\"].plot(kind=\"Bar\")\n",
    "plt.title(\"LOI Data | FT 2 - Was an effective facilitator of learning\")\n",
    "plt.xlabel(\"Rating\")\n",
    "plt.ylabel(\"Amount of Responses\")\n",
    "plt.savefig(\"LOI_FT2_effective_facilitator.png\")"
   ]
  },
  {
   "cell_type": "code",
   "execution_count": null,
   "metadata": {},
   "outputs": [],
   "source": [
    "q164 = trainer_df[\"Q16_4\"]\n",
    "q164 = q164.value_counts()\n",
    "q164.index\n",
    "stringa = '{\"ImportId\":\"QID123_4\"}'\n",
    "stringb = '[Field-Trainer02] - Demonstrated business knowledge'\n",
    "q164 = q164.drop([stringa,stringb])\n",
    "q164 = q164.rename(index = {\"Very great extent\\n5\\n\":5,\"Great\\nextent\\n4\\n\":4,\"Some\\nextent\\n3\\n\":3,\"Little\\nextent\\n2\\n\":2,\"Not at\\nall\\n1\\n\":1})\n",
    "q164=pd.DataFrame(q164)"
   ]
  },
  {
   "cell_type": "code",
   "execution_count": null,
   "metadata": {},
   "outputs": [],
   "source": [
    "q164[\"Q16_4\"].plot(kind=\"Bar\")\n",
    "plt.title(\"LOI Data | FT 2 - Demonstrated business knowledge\")\n",
    "plt.xlabel(\"Rating\")\n",
    "plt.ylabel(\"Amount of Responses\")\n",
    "plt.savefig(\"LOI_FT2_business_knowledge.png\")"
   ]
  },
  {
   "cell_type": "code",
   "execution_count": null,
   "metadata": {},
   "outputs": [],
   "source": [
    "q172 = trainer_df[\"Q17_2\"]\n",
    "q172 = q172.value_counts()\n",
    "q172.index\n",
    "stringc = '{\"ImportId\":\"QID124_2\"}'\n",
    "stringd = '[Field-Trainer03] - Made training content relevant'\n",
    "q172 = q172.drop([stringc,stringd])"
   ]
  },
  {
   "cell_type": "code",
   "execution_count": null,
   "metadata": {},
   "outputs": [],
   "source": [
    "q172"
   ]
  },
  {
   "cell_type": "code",
   "execution_count": null,
   "metadata": {},
   "outputs": [],
   "source": []
  },
  {
   "cell_type": "code",
   "execution_count": null,
   "metadata": {},
   "outputs": [],
   "source": []
  },
  {
   "cell_type": "code",
   "execution_count": null,
   "metadata": {},
   "outputs": [],
   "source": []
  },
  {
   "cell_type": "code",
   "execution_count": null,
   "metadata": {},
   "outputs": [],
   "source": []
  },
  {
   "cell_type": "code",
   "execution_count": null,
   "metadata": {},
   "outputs": [],
   "source": []
  },
  {
   "cell_type": "code",
   "execution_count": null,
   "metadata": {},
   "outputs": [],
   "source": [
    "over_sat\n",
    "over_sat = pd.DataFrame(data=over_sat)\n",
    "\n",
    "over_sat = over_sat.drop(over_sat.index[0])\n",
    "over_sat = over_sat.drop(over_sat.index[0])\n",
    "over_sat.head()"
   ]
  },
  {
   "cell_type": "code",
   "execution_count": null,
   "metadata": {},
   "outputs": [],
   "source": [
    "over_sat.head()\n",
    "dats = np.arange(2,5772)"
   ]
  },
  {
   "cell_type": "code",
   "execution_count": null,
   "metadata": {},
   "outputs": [],
   "source": []
  },
  {
   "cell_type": "code",
   "execution_count": null,
   "metadata": {},
   "outputs": [],
   "source": [
    "over_sat[\"Nums\"] = dats\n",
    "over_sat.head()"
   ]
  },
  {
   "cell_type": "code",
   "execution_count": null,
   "metadata": {},
   "outputs": [],
   "source": [
    "over_sat[\"Q2_1\"] = over_sat[\"Q2_1\"].apply(pd.to_numeric)"
   ]
  },
  {
   "cell_type": "code",
   "execution_count": null,
   "metadata": {},
   "outputs": [],
   "source": []
  },
  {
   "cell_type": "code",
   "execution_count": null,
   "metadata": {},
   "outputs": [],
   "source": [
    "responses_df = over_sat[\"Q2_1\"].value_counts()\n",
    "#responses_df = pd.DataFrame()\n",
    "responses_df = pd.DataFrame(responses_df)\n",
    "responses_df.index.name = \"Nums\"\n",
    "responses_df"
   ]
  },
  {
   "cell_type": "code",
   "execution_count": null,
   "metadata": {},
   "outputs": [],
   "source": [
    "#over_sat.plot.bar(\"Nums\",\"Q2_1\")\n",
    "ax = responses_df[\"Q2_1\"].plot(kind=\"bar\")\n",
    "plt.show()"
   ]
  },
  {
   "cell_type": "code",
   "execution_count": null,
   "metadata": {},
   "outputs": [],
   "source": []
  },
  {
   "cell_type": "code",
   "execution_count": null,
   "metadata": {},
   "outputs": [],
   "source": [
    "##Cleaning data set -  \"LDP EOP DATA.csv\""
   ]
  },
  {
   "cell_type": "code",
   "execution_count": null,
   "metadata": {},
   "outputs": [],
   "source": [
    "df = pd.read_csv(\"LDP EOP DATA.csv\")"
   ]
  },
  {
   "cell_type": "code",
   "execution_count": null,
   "metadata": {},
   "outputs": [],
   "source": [
    "df2 = pd.read_csv(\"LOI EOP REVISED DATA.csv\")"
   ]
  },
  {
   "cell_type": "code",
   "execution_count": null,
   "metadata": {},
   "outputs": [],
   "source": [
    "#in df clean columns Q9_1 to Q12_4\n",
    "df = df.drop(df.index[0])          #dropping the first two rows\n",
    "df = df.drop(df.index[0])\n",
    "df.head()\n"
   ]
  },
  {
   "cell_type": "code",
   "execution_count": null,
   "metadata": {},
   "outputs": [],
   "source": [
    "#df[\"Q9_1\"].value_counts()\n",
    "#df[\"Q9_2\"].value_counts()"
   ]
  },
  {
   "cell_type": "code",
   "execution_count": null,
   "metadata": {},
   "outputs": [],
   "source": [
    "\n",
    "##Strings of all the different cases \n",
    "\n",
    "string5 = \"Very great extent\\n5\"    \n",
    "string4 = \"Great\\nextent \\n4\"  \n",
    "string4_2 = 'Great extent\\n4\\n'\n",
    "string3 = \"Some\\nextent\\n3\"           \n",
    "string2 = \"Little\\nextent\\n2\"          \n",
    "string1 = \"Not at all\\n1\"    \n",
    "string1_2 = \"Not at all\\n1 \"\n",
    "string1_3 = 'Not at all\\n1\\n'\n",
    "string1_4 = 'Not at all 1'\n",
    "string1_5 = 'Not at all   1'"
   ]
  },
  {
   "cell_type": "code",
   "execution_count": null,
   "metadata": {},
   "outputs": [],
   "source": [
    "df[\"Q11_2\"].value_counts()\n",
    "string5_1 = \"Very great extent\\n5\\n\"   \n",
    "string5_2 = 'Very great5'\n",
    "string5_3 = 'Very great  5'\n",
    "\n",
    "string4_1 = \"Great\\nextent\\n4\\n\"  \n",
    "string3_1 = \"Some\\nextent\\n3\\n\"          \n",
    "string2_1  = \"Little\\nextent\\n2\\n\"         \n",
    "string1_1 = \"Not at\\nall\\n1\\n\"            "
   ]
  },
  {
   "cell_type": "code",
   "execution_count": null,
   "metadata": {},
   "outputs": [],
   "source": [
    "#Used indices to capture all cases\n",
    "\n",
    "#df[\"Q11_3\"].value_counts()\n",
    "#df[\"Q11_4\"].value_counts()\n",
    "#df[\"Q12_2\"].value_counts()\n",
    "#df[\"Q12_3\"].value_counts()\n",
    "#df[\"Q12_4\"].value_counts()"
   ]
  },
  {
   "cell_type": "code",
   "execution_count": null,
   "metadata": {},
   "outputs": [],
   "source": [
    "# Q9_1\tQ9_2\tQ11_2\tQ11_3\tQ11_4\tQ12_2\tQ12_3\tQ12_4\n",
    "columns_2_clean = [\"Q9_1\",\"Q9_2\",\"Q11_2\",\"Q11_3\",\"Q11_4\",\"Q12_2\",\"Q12_3\",\"Q12_4\"]"
   ]
  },
  {
   "cell_type": "code",
   "execution_count": null,
   "metadata": {},
   "outputs": [],
   "source": [
    "def clean_dat (col_name):  \n",
    "#meat of function\n",
    "    len(df[col_name])\n",
    "    num = 2\n",
    "    temp_series = df[col_name]\n",
    "    for dummy in df[col_name]:\n",
    "        if (df[col_name][num] == string5):# | \n",
    "            df[col_name][num] = 5.0\n",
    "        if df[col_name][num] == string5_1:\n",
    "            df[col_name][num] = 5.0\n",
    "        if df[col_name][num] == string5_2:\n",
    "            df[col_name][num] = 5.0\n",
    "        if df[col_name][num] == string5_3:\n",
    "            df[col_name][num] = 5.0\n",
    "        if (df[col_name][num] == string4):# | \n",
    "            df[col_name][num] = 4.0\n",
    "        if df[col_name][num] == string4_1:\n",
    "            df[col_name][num] = 4.0\n",
    "        if df[col_name][num] == string4_2:\n",
    "            df[col_name][num] = 4.0\n",
    "        if (df[col_name][num] == string3):# | \n",
    "            df[col_name][num] = 3.0\n",
    "        if df[col_name][num] == string3_1:\n",
    "            df[col_name][num] = 3.0\n",
    "        if (df[col_name][num] == string2):# | \n",
    "            df[col_name][num] = 2.0\n",
    "        if df[col_name][num] == string2_1:\n",
    "            df[col_name][num] = 2.0\n",
    "        if (df[col_name][num] == string1):# | \n",
    "            df[col_name][num] = 1.0\n",
    "        if df[col_name][num] == string1_1:\n",
    "            df[col_name][num] = 1.0\n",
    "        if df[col_name][num] == string1_2:\n",
    "            df[col_name][num] = 1.0\n",
    "        if df[col_name][num] == string1_3:\n",
    "            df[col_name][num] = 1.0\n",
    "        if df[col_name][num] == string1_4:\n",
    "            df[col_name][num] = 1.0\n",
    "        if df[col_name][num] == string1_5:\n",
    "            df[col_name][num] = 1.0\n",
    "        if df[col_name][num] == '1':\n",
    "            df[col_name][num] = 1.0\n",
    "        if df[col_name][num] == '2':\n",
    "            df[col_name][num] = 2.0\n",
    "        if df[col_name][num] == '3':\n",
    "            df[col_name][num] = 3.0\n",
    "        if df[col_name][num] == '4':\n",
    "            df[col_name][num] = 4.0\n",
    "        if df[col_name][num] == '5':\n",
    "            df[col_name][num] = 5.0\n",
    "        num += 1"
   ]
  },
  {
   "cell_type": "code",
   "execution_count": null,
   "metadata": {},
   "outputs": [],
   "source": [
    "df[\"Q9_1\"][2]"
   ]
  },
  {
   "cell_type": "code",
   "execution_count": null,
   "metadata": {},
   "outputs": [],
   "source": [
    "#Cleaning column \"Q9_1\"\n",
    "clean_dat(\"Q9_1\")\n"
   ]
  },
  {
   "cell_type": "code",
   "execution_count": null,
   "metadata": {},
   "outputs": [],
   "source": [
    "m = df[\"Q9_1\"].value_counts()\n",
    "m"
   ]
  },
  {
   "cell_type": "code",
   "execution_count": null,
   "metadata": {},
   "outputs": [],
   "source": [
    "num1 = 0\n",
    "for dummy in columns_2_clean:\n",
    "    clean_dat(columns_2_clean[num1])\n",
    "    num1 += 1"
   ]
  },
  {
   "cell_type": "code",
   "execution_count": null,
   "metadata": {},
   "outputs": [],
   "source": [
    "df[columns_2_clean[7]].value_counts()"
   ]
  },
  {
   "cell_type": "code",
   "execution_count": null,
   "metadata": {},
   "outputs": [],
   "source": [
    "clean_dat(\"Q6_2\")\n",
    "m = df[\"Q6_2\"].value_counts()\n",
    "df[\"Q6_2\"].mean()"
   ]
  },
  {
   "cell_type": "code",
   "execution_count": null,
   "metadata": {},
   "outputs": [],
   "source": [
    "clean_dat(\"Q6_1\")\n",
    "clean_dat(\"Q5#2_9\")"
   ]
  },
  {
   "cell_type": "code",
   "execution_count": null,
   "metadata": {},
   "outputs": [],
   "source": [
    "df[\"Q6_1\"].value_counts()\n",
    "m = df[\"Q5#2_9\"].value_counts()\n"
   ]
  },
  {
   "cell_type": "code",
   "execution_count": null,
   "metadata": {},
   "outputs": [],
   "source": [
    "cols_2_clean = [\"Q5#1_1\",\"Q5#1_2\",\"Q5#1_3\",\"Q5#1_4\",\"Q5#1_5\",\"Q5#1_6\",\"Q5#1_7\",\"Q5#1_8\",\"Q5#1_9\",\"Q5#2_1\",\"Q5#2_2\",\"Q5#2_3\",\"Q5#2_4\",\"Q5#2_5\",\"Q5#2_6\",\"Q5#2_7\",\"Q5#2_8\"]\n",
    "len(cols_2_clean)\n",
    "#for loop to clean columns \"Q5#1_1\" to \"Q5#2_8\"\n",
    "num1 = 0\n",
    "for dummy in cols_2_clean:\n",
    "    clean_dat(cols_2_clean[num1])\n",
    "    num1 += 1\n"
   ]
  },
  {
   "cell_type": "code",
   "execution_count": null,
   "metadata": {},
   "outputs": [],
   "source": []
  },
  {
   "cell_type": "code",
   "execution_count": null,
   "metadata": {},
   "outputs": [],
   "source": [
    "m = df[cols_2_clean[0]].value_counts()\n",
    "m.index\n",
    "clean = df[\"Q5#2_8\"].dropna(axis=0)"
   ]
  },
  {
   "cell_type": "code",
   "execution_count": null,
   "metadata": {},
   "outputs": [],
   "source": [
    "clean.mean()"
   ]
  },
  {
   "cell_type": "code",
   "execution_count": null,
   "metadata": {},
   "outputs": [],
   "source": [
    "df[cols_2_clean].head()"
   ]
  },
  {
   "cell_type": "code",
   "execution_count": null,
   "metadata": {},
   "outputs": [],
   "source": []
  }
 ],
 "metadata": {
  "kernelspec": {
   "display_name": "Python 3",
   "language": "python",
   "name": "python3"
  },
  "language_info": {
   "codemirror_mode": {
    "name": "ipython",
    "version": 3
   },
   "file_extension": ".py",
   "mimetype": "text/x-python",
   "name": "python",
   "nbconvert_exporter": "python",
   "pygments_lexer": "ipython3",
   "version": "3.6.5"
  }
 },
 "nbformat": 4,
 "nbformat_minor": 2
}
