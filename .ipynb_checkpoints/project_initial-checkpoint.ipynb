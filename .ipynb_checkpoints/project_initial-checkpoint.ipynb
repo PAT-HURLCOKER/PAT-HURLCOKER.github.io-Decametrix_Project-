{
 "cells": [
  {
   "cell_type": "code",
   "execution_count": 1,
   "metadata": {},
   "outputs": [],
   "source": [
    "import tweepy\n",
    "import pandas as pd\n",
    "df = pd.read_csv(\"LDP EOP DATA.csv\")\n",
    "\n",
    "# Import and Initialize Sentiment Analyzer\n",
    "from vaderSentiment.vaderSentiment import SentimentIntensityAnalyzer\n",
    "analyzer = SentimentIntensityAnalyzer()\n",
    "\n",
    "from config import consumer_key, consumer_secret, access_token, access_token_secret\n",
    "\n",
    "# Setup Tweepy API Authentication\n",
    "auth = tweepy.OAuthHandler(consumer_key, consumer_secret)\n",
    "auth.set_access_token(access_token, access_token_secret)\n",
    "api = tweepy.API(auth, parser=tweepy.parsers.JSONParser())\n",
    "\n",
    "import spacy\n",
    "from spacy import displacy\n",
    "# Load the spaCy model\n",
    "nlp = spacy.load('en_core_web_sm') #sm does not use vectors\n",
    "                                   #but md does use vectors"
   ]
  },
  {
   "cell_type": "code",
   "execution_count": 34,
   "metadata": {},
   "outputs": [
    {
     "data": {
      "text/plain": [
       "3"
      ]
     },
     "execution_count": 34,
     "metadata": {},
     "output_type": "execute_result"
    }
   ],
   "source": [
    "over_sat = df[\"Q2_1\"]\n",
    "#very great extent 5\n",
    "len(over_sat)\n",
    "num = 0\n",
    "for dummy in over_sat:\n",
    "    if over_sat[num] == \"Very great extent 5\":\n",
    "        over_sat[num] = 5\n",
    "    if over_sat[num] == 'Some\\nextent\\n\\n3\\n':\n",
    "        over_sat[num] = 3\n",
    "    if over_sat[num] == \"Great\\nextent\\n4\\n\":\n",
    "        over_sat[num] = 4\n",
    "    num += 1"
   ]
  },
  {
   "cell_type": "code",
   "execution_count": 35,
   "metadata": {},
   "outputs": [
    {
     "data": {
      "text/plain": [
       "0       Overall Satisfaction\\n\\n\\n\\nPlease use the fol...\n",
       "1                                 {\"ImportId\":\"QID113_1\"}\n",
       "2                                                       4\n",
       "3                                                       5\n",
       "4                                                       5\n",
       "5                                                       5\n",
       "6                                                       5\n",
       "7                                                       5\n",
       "8                                                       5\n",
       "9                                                       5\n",
       "10                                                      5\n",
       "11                                                      5\n",
       "12                                                      5\n",
       "13                                                      5\n",
       "14                                                      5\n",
       "15                                                      5\n",
       "16                                                      5\n",
       "17                                                      5\n",
       "18                                                      5\n",
       "19                                                      5\n",
       "20                                                      5\n",
       "21                                                      3\n",
       "22                                                      5\n",
       "23                                                      5\n",
       "24                                                      5\n",
       "25                                                      5\n",
       "26                                                      4\n",
       "27                                                      5\n",
       "28                                                      5\n",
       "29                                                      5\n",
       "                              ...                        \n",
       "5742                                                    5\n",
       "5743                                                    5\n",
       "5744                                                    5\n",
       "5745                                                    5\n",
       "5746                                                    4\n",
       "5747                                                    5\n",
       "5748                                                    5\n",
       "5749                                                    5\n",
       "5750                                                    5\n",
       "5751                                                    5\n",
       "5752                                                    4\n",
       "5753                                                    5\n",
       "5754                                                    5\n",
       "5755                                                    5\n",
       "5756                                                    5\n",
       "5757                                                    5\n",
       "5758                                                    5\n",
       "5759                                                    5\n",
       "5760                                                    4\n",
       "5761                                                    4\n",
       "5762                                                    5\n",
       "5763                                                    5\n",
       "5764                                                    4\n",
       "5765                                                    5\n",
       "5766                                                    5\n",
       "5767                                                    5\n",
       "5768                                                    5\n",
       "5769                                                    5\n",
       "5770                                                    5\n",
       "5771                                                    5\n",
       "Name: Q2_1, Length: 5772, dtype: object"
      ]
     },
     "execution_count": 35,
     "metadata": {},
     "output_type": "execute_result"
    }
   ],
   "source": [
    "over_sat"
   ]
  },
  {
   "cell_type": "code",
   "execution_count": 15,
   "metadata": {},
   "outputs": [
    {
     "data": {
      "text/plain": [
       "\"too long, too slow, more practical how to's\""
      ]
     },
     "execution_count": 15,
     "metadata": {},
     "output_type": "execute_result"
    }
   ],
   "source": [
    "string = df[\"Q4\"][21]\n",
    "string\n"
   ]
  },
  {
   "cell_type": "code",
   "execution_count": 16,
   "metadata": {},
   "outputs": [
    {
     "data": {
      "text/plain": [
       "{'neg': 0.0, 'neu': 1.0, 'pos': 0.0, 'compound': 0.0}"
      ]
     },
     "execution_count": 16,
     "metadata": {},
     "output_type": "execute_result"
    }
   ],
   "source": [
    "# Run analysis\n",
    "results = analyzer.polarity_scores(string)\n",
    "results"
   ]
  },
  {
   "cell_type": "code",
   "execution_count": 17,
   "metadata": {},
   "outputs": [],
   "source": [
    "compound = results[\"compound\"]\n",
    "pos = results[\"pos\"]\n",
    "neu = results[\"neu\"]\n",
    "neg = results[\"neg\"]"
   ]
  },
  {
   "cell_type": "code",
   "execution_count": 18,
   "metadata": {},
   "outputs": [
    {
     "name": "stderr",
     "output_type": "stream",
     "text": [
      "C:\\Users\\cmana\\Anaconda3\\envs\\PythonData\\lib\\runpy.py:193: UserWarning: [W006] No entities to visualize found in Doc object. If this is surprising to you, make sure the Doc was processed using a model that supports named entity recognition, and check the `doc.ents` property manually if necessary.\n",
      "  \"__main__\", mod_spec)\n"
     ]
    },
    {
     "data": {
      "text/html": [
       "<h2 style=\"margin: 0\">Tweet Snippet</h2>\n",
       "\n",
       "<div class=\"entities\" style=\"line-height: 2.5\">too long, too slow, more practical how to's</div>"
      ],
      "text/plain": [
       "<IPython.core.display.HTML object>"
      ]
     },
     "metadata": {},
     "output_type": "display_data"
    }
   ],
   "source": [
    "doc2 = nlp(string)\n",
    "\n",
    "        # Add a title to the document\n",
    "doc2.user_data['title'] = 'Tweet Snippet'\n",
    "\n",
    "        # Render the visualization\n",
    "displacy.render(doc2, style='ent', jupyter=True)"
   ]
  },
  {
   "cell_type": "code",
   "execution_count": null,
   "metadata": {},
   "outputs": [],
   "source": []
  }
 ],
 "metadata": {
  "kernelspec": {
   "display_name": "Python 3",
   "language": "python",
   "name": "python3"
  },
  "language_info": {
   "codemirror_mode": {
    "name": "ipython",
    "version": 3
   },
   "file_extension": ".py",
   "mimetype": "text/x-python",
   "name": "python",
   "nbconvert_exporter": "python",
   "pygments_lexer": "ipython3",
   "version": "3.6.5"
  }
 },
 "nbformat": 4,
 "nbformat_minor": 2
}
