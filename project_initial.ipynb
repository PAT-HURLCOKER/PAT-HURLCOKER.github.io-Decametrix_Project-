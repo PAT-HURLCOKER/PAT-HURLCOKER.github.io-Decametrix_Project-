{
 "cells": [
  {
   "cell_type": "code",
   "execution_count": 1,
   "metadata": {},
   "outputs": [],
   "source": [
    "import tweepy\n",
    "import pandas as pd\n",
    "import matplotlib as plt\n",
    "df = pd.read_csv(\"LDP EOP DATA.csv\")\n",
    "\n",
    "import numpy as np\n",
    "\n",
    "# Import and Initialize Sentiment Analyzer\n",
    "from vaderSentiment.vaderSentiment import SentimentIntensityAnalyzer\n",
    "analyzer = SentimentIntensityAnalyzer()\n",
    "\n",
    "from config import consumer_key, consumer_secret, access_token, access_token_secret\n",
    "\n",
    "# Setup Tweepy API Authentication\n",
    "auth = tweepy.OAuthHandler(consumer_key, consumer_secret)\n",
    "auth.set_access_token(access_token, access_token_secret)\n",
    "api = tweepy.API(auth, parser=tweepy.parsers.JSONParser())\n",
    "\n",
    "import spacy\n",
    "from spacy import displacy\n",
    "# Load the spaCy model\n",
    "nlp = spacy.load('en_core_web_sm') #sm does not use vectors\n",
    "                                   #but md does use vectors"
   ]
  },
  {
   "cell_type": "code",
   "execution_count": 2,
   "metadata": {},
   "outputs": [],
   "source": [
    "over_sat = df[\"Q2_1\"]\n",
    "#very great extent 5\n",
    "len(over_sat)\n",
    "num = 0\n",
    "for dummy in over_sat:\n",
    "    if over_sat[num] == \"Very great extent 5\":\n",
    "        over_sat[num] = 5\n",
    "    if over_sat[num] == 'Some\\nextent\\n\\n3\\n':\n",
    "        over_sat[num] = 3\n",
    "    if over_sat[num] == \"Great\\nextent\\n4\\n\":\n",
    "        over_sat[num] = 4\n",
    "    num += 1"
   ]
  },
  {
   "cell_type": "code",
   "execution_count": 3,
   "metadata": {},
   "outputs": [
    {
     "data": {
      "text/plain": [
       "0       Overall Satisfaction\\n\\n\\n\\nPlease use the fol...\n",
       "1                                 {\"ImportId\":\"QID113_1\"}\n",
       "2                                                       4\n",
       "3                                                       5\n",
       "4                                                       5\n",
       "5                                                       5\n",
       "6                                                       5\n",
       "7                                                       5\n",
       "8                                                       5\n",
       "9                                                       5\n",
       "10                                                      5\n",
       "11                                                      5\n",
       "12                                                      5\n",
       "13                                                      5\n",
       "14                                                      5\n",
       "15                                                      5\n",
       "16                                                      5\n",
       "17                                                      5\n",
       "18                                                      5\n",
       "19                                                      5\n",
       "20                                                      5\n",
       "21                                                      3\n",
       "22                                                      5\n",
       "23                                                      5\n",
       "24                                                      5\n",
       "25                                                      5\n",
       "26                                                      4\n",
       "27                                                      5\n",
       "28                                                      5\n",
       "29                                                      5\n",
       "                              ...                        \n",
       "5742                                                    5\n",
       "5743                                                    5\n",
       "5744                                                    5\n",
       "5745                                                    5\n",
       "5746                                                    4\n",
       "5747                                                    5\n",
       "5748                                                    5\n",
       "5749                                                    5\n",
       "5750                                                    5\n",
       "5751                                                    5\n",
       "5752                                                    4\n",
       "5753                                                    5\n",
       "5754                                                    5\n",
       "5755                                                    5\n",
       "5756                                                    5\n",
       "5757                                                    5\n",
       "5758                                                    5\n",
       "5759                                                    5\n",
       "5760                                                    4\n",
       "5761                                                    4\n",
       "5762                                                    5\n",
       "5763                                                    5\n",
       "5764                                                    4\n",
       "5765                                                    5\n",
       "5766                                                    5\n",
       "5767                                                    5\n",
       "5768                                                    5\n",
       "5769                                                    5\n",
       "5770                                                    5\n",
       "5771                                                    5\n",
       "Name: Q2_1, Length: 5772, dtype: object"
      ]
     },
     "execution_count": 3,
     "metadata": {},
     "output_type": "execute_result"
    }
   ],
   "source": [
    "over_sat"
   ]
  },
  {
   "cell_type": "code",
   "execution_count": 4,
   "metadata": {},
   "outputs": [
    {
     "data": {
      "text/plain": [
       "<bound method NDFrame.head of      Q2_1\n",
       "2       4\n",
       "3       5\n",
       "4       5\n",
       "5       5\n",
       "6       5\n",
       "7       5\n",
       "8       5\n",
       "9       5\n",
       "10      5\n",
       "11      5\n",
       "12      5\n",
       "13      5\n",
       "14      5\n",
       "15      5\n",
       "16      5\n",
       "17      5\n",
       "18      5\n",
       "19      5\n",
       "20      5\n",
       "21      3\n",
       "22      5\n",
       "23      5\n",
       "24      5\n",
       "25      5\n",
       "26      4\n",
       "27      5\n",
       "28      5\n",
       "29      5\n",
       "30      5\n",
       "31      4\n",
       "...   ...\n",
       "5742    5\n",
       "5743    5\n",
       "5744    5\n",
       "5745    5\n",
       "5746    4\n",
       "5747    5\n",
       "5748    5\n",
       "5749    5\n",
       "5750    5\n",
       "5751    5\n",
       "5752    4\n",
       "5753    5\n",
       "5754    5\n",
       "5755    5\n",
       "5756    5\n",
       "5757    5\n",
       "5758    5\n",
       "5759    5\n",
       "5760    4\n",
       "5761    4\n",
       "5762    5\n",
       "5763    5\n",
       "5764    4\n",
       "5765    5\n",
       "5766    5\n",
       "5767    5\n",
       "5768    5\n",
       "5769    5\n",
       "5770    5\n",
       "5771    5\n",
       "\n",
       "[5770 rows x 1 columns]>"
      ]
     },
     "execution_count": 4,
     "metadata": {},
     "output_type": "execute_result"
    }
   ],
   "source": [
    "over_sat\n",
    "over_sat = pd.DataFrame(data=over_sat)\n",
    "\n",
    "over_sat = over_sat.drop(over_sat.index[0])\n",
    "over_sat = over_sat.drop(over_sat.index[0])\n",
    "over_sat.head\n"
   ]
  },
  {
   "cell_type": "code",
   "execution_count": 5,
   "metadata": {},
   "outputs": [],
   "source": [
    "over_sat.head()\n",
    "dats = np.arange(2,5772)"
   ]
  },
  {
   "cell_type": "code",
   "execution_count": null,
   "metadata": {},
   "outputs": [],
   "source": []
  },
  {
   "cell_type": "code",
   "execution_count": null,
   "metadata": {},
   "outputs": [],
   "source": []
  },
  {
   "cell_type": "code",
   "execution_count": 6,
   "metadata": {},
   "outputs": [
    {
     "ename": "SyntaxError",
     "evalue": "invalid syntax (<ipython-input-6-db924ce9a219>, line 1)",
     "output_type": "error",
     "traceback": [
      "\u001b[1;36m  File \u001b[1;32m\"<ipython-input-6-db924ce9a219>\"\u001b[1;36m, line \u001b[1;32m1\u001b[0m\n\u001b[1;33m    over_sat.plot.scatter(,\"Q2_1\")\u001b[0m\n\u001b[1;37m                          ^\u001b[0m\n\u001b[1;31mSyntaxError\u001b[0m\u001b[1;31m:\u001b[0m invalid syntax\n"
     ]
    }
   ],
   "source": [
    "over_sat.plot.scatter(dats,\"Q2_1\")"
   ]
  },
  {
   "cell_type": "code",
   "execution_count": null,
   "metadata": {},
   "outputs": [],
   "source": [
    "over_sat.plot(kind='scatter', x=dats, y='Q2_1')"
   ]
  },
  {
   "cell_type": "code",
   "execution_count": null,
   "metadata": {},
   "outputs": [],
   "source": [
    "string = df[\"Q4\"][21]\n",
    "string\n"
   ]
  },
  {
   "cell_type": "code",
   "execution_count": null,
   "metadata": {},
   "outputs": [],
   "source": [
    "# Run analysis\n",
    "results = analyzer.polarity_scores(string)\n",
    "results"
   ]
  },
  {
   "cell_type": "code",
   "execution_count": null,
   "metadata": {},
   "outputs": [],
   "source": [
    "compound = results[\"compound\"]\n",
    "pos = results[\"pos\"]\n",
    "neu = results[\"neu\"]\n",
    "neg = results[\"neg\"]"
   ]
  },
  {
   "cell_type": "code",
   "execution_count": null,
   "metadata": {},
   "outputs": [],
   "source": [
    "doc2 = nlp(string)\n",
    "\n",
    "        # Add a title to the document\n",
    "doc2.user_data['title'] = 'Tweet Snippet'\n",
    "\n",
    "        # Render the visualization\n",
    "displacy.render(doc2, style='ent', jupyter=True)"
   ]
  },
  {
   "cell_type": "code",
   "execution_count": null,
   "metadata": {},
   "outputs": [],
   "source": []
  }
 ],
 "metadata": {
  "kernelspec": {
   "display_name": "Python 3",
   "language": "python",
   "name": "python3"
  },
  "language_info": {
   "codemirror_mode": {
    "name": "ipython",
    "version": 3
   },
   "file_extension": ".py",
   "mimetype": "text/x-python",
   "name": "python",
   "nbconvert_exporter": "python",
   "pygments_lexer": "ipython3",
   "version": "3.6.5"
  }
 },
 "nbformat": 4,
 "nbformat_minor": 2
}
